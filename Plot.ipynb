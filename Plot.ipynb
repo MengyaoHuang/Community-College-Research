{
  "nbformat": 4,
  "nbformat_minor": 0,
  "metadata": {
    "colab": {
      "name": "Plot.ipynb",
      "provenance": [],
      "collapsed_sections": []
    },
    "kernelspec": {
      "name": "python3",
      "display_name": "Python 3"
    }
  },
  "cells": [
    {
      "cell_type": "code",
      "metadata": {
        "id": "_u5jVtOF80yy",
        "colab_type": "code",
        "colab": {}
      },
      "source": [
        "import pandas as pd\n",
        "import pickle\n",
        "import glob\n",
        "import numpy as np\n",
        "\n",
        "import warnings\n",
        "warnings.filterwarnings(\"ignore\")\n",
        "\n",
        "from collections import Counter"
      ],
      "execution_count": 0,
      "outputs": []
    },
    {
      "cell_type": "code",
      "metadata": {
        "id": "lUHiLgAz-g7E",
        "colab_type": "code",
        "colab": {}
      },
      "source": [
        "import pandas as pd\n",
        "import matplotlib.pyplot as plt\n",
        "%matplotlib inline\n",
        "plt.style.use('ggplot')\n",
        "import numpy as np"
      ],
      "execution_count": 0,
      "outputs": []
    },
    {
      "cell_type": "code",
      "metadata": {
        "id": "apA7rRGr-rCc",
        "colab_type": "code",
        "colab": {
          "base_uri": "https://localhost:8080/",
          "height": 204
        },
        "outputId": "c66b7481-05cd-4c27-ea1a-bddd812571ad"
      },
      "source": [
        "data = pd.read_csv(\"dataforggplot.csv\")\n",
        "data.head(5)"
      ],
      "execution_count": 3,
      "outputs": [
        {
          "output_type": "execute_result",
          "data": {
            "text/html": [
              "<div>\n",
              "<style scoped>\n",
              "    .dataframe tbody tr th:only-of-type {\n",
              "        vertical-align: middle;\n",
              "    }\n",
              "\n",
              "    .dataframe tbody tr th {\n",
              "        vertical-align: top;\n",
              "    }\n",
              "\n",
              "    .dataframe thead th {\n",
              "        text-align: right;\n",
              "    }\n",
              "</style>\n",
              "<table border=\"1\" class=\"dataframe\">\n",
              "  <thead>\n",
              "    <tr style=\"text-align: right;\">\n",
              "      <th></th>\n",
              "      <th>Unnamed: 0</th>\n",
              "      <th>PIDM</th>\n",
              "      <th>White</th>\n",
              "      <th>Agex</th>\n",
              "      <th>FTIAC</th>\n",
              "      <th>PELL</th>\n",
              "      <th>SemCrAtt_Re</th>\n",
              "      <th>SEX</th>\n",
              "      <th>winterEnl_new</th>\n",
              "      <th>MaxOfDeg2</th>\n",
              "      <th>SemGPA</th>\n",
              "      <th>NoDeg</th>\n",
              "      <th>Bachelor</th>\n",
              "      <th>Assc</th>\n",
              "      <th>Cert</th>\n",
              "    </tr>\n",
              "  </thead>\n",
              "  <tbody>\n",
              "    <tr>\n",
              "      <th>0</th>\n",
              "      <td>1</td>\n",
              "      <td>686256</td>\n",
              "      <td>1</td>\n",
              "      <td>&lt;19</td>\n",
              "      <td>1</td>\n",
              "      <td>0</td>\n",
              "      <td>&lt;=6</td>\n",
              "      <td>F</td>\n",
              "      <td>1</td>\n",
              "      <td>NoDeg</td>\n",
              "      <td>2.984383</td>\n",
              "      <td>0.418710</td>\n",
              "      <td>0.316023</td>\n",
              "      <td>0.102328</td>\n",
              "      <td>0.162940</td>\n",
              "    </tr>\n",
              "    <tr>\n",
              "      <th>1</th>\n",
              "      <td>2</td>\n",
              "      <td>776796</td>\n",
              "      <td>1</td>\n",
              "      <td>&lt;19</td>\n",
              "      <td>1</td>\n",
              "      <td>0</td>\n",
              "      <td>&gt;12</td>\n",
              "      <td>F</td>\n",
              "      <td>1</td>\n",
              "      <td>Assc</td>\n",
              "      <td>2.984383</td>\n",
              "      <td>0.363932</td>\n",
              "      <td>0.381288</td>\n",
              "      <td>0.156499</td>\n",
              "      <td>0.098281</td>\n",
              "    </tr>\n",
              "    <tr>\n",
              "      <th>2</th>\n",
              "      <td>3</td>\n",
              "      <td>800043</td>\n",
              "      <td>1</td>\n",
              "      <td>&lt;19</td>\n",
              "      <td>1</td>\n",
              "      <td>0</td>\n",
              "      <td>6-12</td>\n",
              "      <td>F</td>\n",
              "      <td>0</td>\n",
              "      <td>NoDeg</td>\n",
              "      <td>2.984383</td>\n",
              "      <td>0.651050</td>\n",
              "      <td>0.102455</td>\n",
              "      <td>0.045384</td>\n",
              "      <td>0.201110</td>\n",
              "    </tr>\n",
              "    <tr>\n",
              "      <th>3</th>\n",
              "      <td>4</td>\n",
              "      <td>834049</td>\n",
              "      <td>1</td>\n",
              "      <td>&lt;19</td>\n",
              "      <td>1</td>\n",
              "      <td>0</td>\n",
              "      <td>6-12</td>\n",
              "      <td>F</td>\n",
              "      <td>1</td>\n",
              "      <td>Assc</td>\n",
              "      <td>2.984383</td>\n",
              "      <td>0.479661</td>\n",
              "      <td>0.215291</td>\n",
              "      <td>0.158227</td>\n",
              "      <td>0.146821</td>\n",
              "    </tr>\n",
              "    <tr>\n",
              "      <th>4</th>\n",
              "      <td>5</td>\n",
              "      <td>842622</td>\n",
              "      <td>1</td>\n",
              "      <td>&lt;19</td>\n",
              "      <td>1</td>\n",
              "      <td>0</td>\n",
              "      <td>6-12</td>\n",
              "      <td>F</td>\n",
              "      <td>1</td>\n",
              "      <td>Cert</td>\n",
              "      <td>2.984383</td>\n",
              "      <td>0.479661</td>\n",
              "      <td>0.215291</td>\n",
              "      <td>0.158227</td>\n",
              "      <td>0.146821</td>\n",
              "    </tr>\n",
              "  </tbody>\n",
              "</table>\n",
              "</div>"
            ],
            "text/plain": [
              "   Unnamed: 0    PIDM  White Agex  ...     NoDeg  Bachelor      Assc      Cert\n",
              "0           1  686256      1  <19  ...  0.418710  0.316023  0.102328  0.162940\n",
              "1           2  776796      1  <19  ...  0.363932  0.381288  0.156499  0.098281\n",
              "2           3  800043      1  <19  ...  0.651050  0.102455  0.045384  0.201110\n",
              "3           4  834049      1  <19  ...  0.479661  0.215291  0.158227  0.146821\n",
              "4           5  842622      1  <19  ...  0.479661  0.215291  0.158227  0.146821\n",
              "\n",
              "[5 rows x 15 columns]"
            ]
          },
          "metadata": {
            "tags": []
          },
          "execution_count": 3
        }
      ]
    },
    {
      "cell_type": "code",
      "metadata": {
        "id": "JzN7U-tr-w_z",
        "colab_type": "code",
        "colab": {
          "base_uri": "https://localhost:8080/",
          "height": 235
        },
        "outputId": "30b42178-26f9-4be9-fcbc-b749a75e6f10"
      },
      "source": [
        "groupbydata = data[['Bachelor', 'Assc', 'Cert', 'winterEnl_new', 'SemCrAtt_Re']].groupby(['winterEnl_new', 'SemCrAtt_Re']).mean().reset_index()\n",
        "groupbydata"
      ],
      "execution_count": 7,
      "outputs": [
        {
          "output_type": "execute_result",
          "data": {
            "text/html": [
              "<div>\n",
              "<style scoped>\n",
              "    .dataframe tbody tr th:only-of-type {\n",
              "        vertical-align: middle;\n",
              "    }\n",
              "\n",
              "    .dataframe tbody tr th {\n",
              "        vertical-align: top;\n",
              "    }\n",
              "\n",
              "    .dataframe thead th {\n",
              "        text-align: right;\n",
              "    }\n",
              "</style>\n",
              "<table border=\"1\" class=\"dataframe\">\n",
              "  <thead>\n",
              "    <tr style=\"text-align: right;\">\n",
              "      <th></th>\n",
              "      <th>winterEnl_new</th>\n",
              "      <th>SemCrAtt_Re</th>\n",
              "      <th>Bachelor</th>\n",
              "      <th>Assc</th>\n",
              "      <th>Cert</th>\n",
              "    </tr>\n",
              "  </thead>\n",
              "  <tbody>\n",
              "    <tr>\n",
              "      <th>0</th>\n",
              "      <td>0</td>\n",
              "      <td>6-12</td>\n",
              "      <td>0.102455</td>\n",
              "      <td>0.045384</td>\n",
              "      <td>0.201110</td>\n",
              "    </tr>\n",
              "    <tr>\n",
              "      <th>1</th>\n",
              "      <td>0</td>\n",
              "      <td>&lt;=6</td>\n",
              "      <td>0.154844</td>\n",
              "      <td>0.030220</td>\n",
              "      <td>0.229795</td>\n",
              "    </tr>\n",
              "    <tr>\n",
              "      <th>2</th>\n",
              "      <td>0</td>\n",
              "      <td>&gt;12</td>\n",
              "      <td>0.212241</td>\n",
              "      <td>0.052506</td>\n",
              "      <td>0.157464</td>\n",
              "    </tr>\n",
              "    <tr>\n",
              "      <th>3</th>\n",
              "      <td>1</td>\n",
              "      <td>6-12</td>\n",
              "      <td>0.215291</td>\n",
              "      <td>0.158227</td>\n",
              "      <td>0.146821</td>\n",
              "    </tr>\n",
              "    <tr>\n",
              "      <th>4</th>\n",
              "      <td>1</td>\n",
              "      <td>&lt;=6</td>\n",
              "      <td>0.316023</td>\n",
              "      <td>0.102328</td>\n",
              "      <td>0.162940</td>\n",
              "    </tr>\n",
              "    <tr>\n",
              "      <th>5</th>\n",
              "      <td>1</td>\n",
              "      <td>&gt;12</td>\n",
              "      <td>0.381288</td>\n",
              "      <td>0.156499</td>\n",
              "      <td>0.098281</td>\n",
              "    </tr>\n",
              "  </tbody>\n",
              "</table>\n",
              "</div>"
            ],
            "text/plain": [
              "   winterEnl_new SemCrAtt_Re  Bachelor      Assc      Cert\n",
              "0              0        6-12  0.102455  0.045384  0.201110\n",
              "1              0         <=6  0.154844  0.030220  0.229795\n",
              "2              0         >12  0.212241  0.052506  0.157464\n",
              "3              1        6-12  0.215291  0.158227  0.146821\n",
              "4              1         <=6  0.316023  0.102328  0.162940\n",
              "5              1         >12  0.381288  0.156499  0.098281"
            ]
          },
          "metadata": {
            "tags": []
          },
          "execution_count": 7
        }
      ]
    },
    {
      "cell_type": "code",
      "metadata": {
        "id": "lPFbPwfG_eMb",
        "colab_type": "code",
        "colab": {
          "base_uri": "https://localhost:8080/",
          "height": 204
        },
        "outputId": "70f156a8-33ee-42ae-c2f2-4b95de446dae"
      },
      "source": [
        "def subsetModify(keywords_):\n",
        "  subset = groupbydata[['winterEnl_new','SemCrAtt_Re', keywords_]]\n",
        "  subset['winterEnl_new'] = subset['winterEnl_new'].map({1: 'Enroll', 0: 'Not Enroll'})\n",
        "  subset['value'] = subset[keywords_]\n",
        "  # subset['Type'] = keywords_ + \" \" + subset['winterEnl_new']\n",
        "  subset['Type'] = keywords_\n",
        "  # rename\n",
        "  subset = subset.rename(columns={'winterEnl_new':'Enrollment Status'})\n",
        "  return subset\n",
        "# test\n",
        "plot = subsetModify(\"Bachelor\").append(subsetModify(\"Assc\")).append(subsetModify(\"Cert\"))\n",
        "plot.head(5)"
      ],
      "execution_count": 69,
      "outputs": [
        {
          "output_type": "execute_result",
          "data": {
            "text/html": [
              "<div>\n",
              "<style scoped>\n",
              "    .dataframe tbody tr th:only-of-type {\n",
              "        vertical-align: middle;\n",
              "    }\n",
              "\n",
              "    .dataframe tbody tr th {\n",
              "        vertical-align: top;\n",
              "    }\n",
              "\n",
              "    .dataframe thead th {\n",
              "        text-align: right;\n",
              "    }\n",
              "</style>\n",
              "<table border=\"1\" class=\"dataframe\">\n",
              "  <thead>\n",
              "    <tr style=\"text-align: right;\">\n",
              "      <th></th>\n",
              "      <th>Assc</th>\n",
              "      <th>Bachelor</th>\n",
              "      <th>Cert</th>\n",
              "      <th>Enrollment Status</th>\n",
              "      <th>SemCrAtt_Re</th>\n",
              "      <th>Type</th>\n",
              "      <th>value</th>\n",
              "    </tr>\n",
              "  </thead>\n",
              "  <tbody>\n",
              "    <tr>\n",
              "      <th>0</th>\n",
              "      <td>NaN</td>\n",
              "      <td>0.102455</td>\n",
              "      <td>NaN</td>\n",
              "      <td>Not Enroll</td>\n",
              "      <td>6-12</td>\n",
              "      <td>Bachelor</td>\n",
              "      <td>0.102455</td>\n",
              "    </tr>\n",
              "    <tr>\n",
              "      <th>1</th>\n",
              "      <td>NaN</td>\n",
              "      <td>0.154844</td>\n",
              "      <td>NaN</td>\n",
              "      <td>Not Enroll</td>\n",
              "      <td>&lt;=6</td>\n",
              "      <td>Bachelor</td>\n",
              "      <td>0.154844</td>\n",
              "    </tr>\n",
              "    <tr>\n",
              "      <th>2</th>\n",
              "      <td>NaN</td>\n",
              "      <td>0.212241</td>\n",
              "      <td>NaN</td>\n",
              "      <td>Not Enroll</td>\n",
              "      <td>&gt;12</td>\n",
              "      <td>Bachelor</td>\n",
              "      <td>0.212241</td>\n",
              "    </tr>\n",
              "    <tr>\n",
              "      <th>3</th>\n",
              "      <td>NaN</td>\n",
              "      <td>0.215291</td>\n",
              "      <td>NaN</td>\n",
              "      <td>Enroll</td>\n",
              "      <td>6-12</td>\n",
              "      <td>Bachelor</td>\n",
              "      <td>0.215291</td>\n",
              "    </tr>\n",
              "    <tr>\n",
              "      <th>4</th>\n",
              "      <td>NaN</td>\n",
              "      <td>0.316023</td>\n",
              "      <td>NaN</td>\n",
              "      <td>Enroll</td>\n",
              "      <td>&lt;=6</td>\n",
              "      <td>Bachelor</td>\n",
              "      <td>0.316023</td>\n",
              "    </tr>\n",
              "  </tbody>\n",
              "</table>\n",
              "</div>"
            ],
            "text/plain": [
              "   Assc  Bachelor  Cert Enrollment Status SemCrAtt_Re      Type     value\n",
              "0   NaN  0.102455   NaN        Not Enroll        6-12  Bachelor  0.102455\n",
              "1   NaN  0.154844   NaN        Not Enroll         <=6  Bachelor  0.154844\n",
              "2   NaN  0.212241   NaN        Not Enroll         >12  Bachelor  0.212241\n",
              "3   NaN  0.215291   NaN            Enroll        6-12  Bachelor  0.215291\n",
              "4   NaN  0.316023   NaN            Enroll         <=6  Bachelor  0.316023"
            ]
          },
          "metadata": {
            "tags": []
          },
          "execution_count": 69
        }
      ]
    },
    {
      "cell_type": "code",
      "metadata": {
        "id": "0lR4lKMVChVj",
        "colab_type": "code",
        "colab": {
          "base_uri": "https://localhost:8080/",
          "height": 332
        },
        "outputId": "3457bcb6-c39b-4875-d7cb-5fad6da3f352"
      },
      "source": [
        "# Use the 'hue' argument to provide a factor variable\n",
        "sns.scatterplot( x=\"SemCrAtt_Re\", y=\"value\", data=plot, hue='Type', style=\"Enrollment Status\", legend=\"brief\", s=120)\n",
        " \n",
        "# Move the legend to an empty part of the plot\n",
        "# plt.legend(loc='upper left')\n",
        "plt.legend(bbox_to_anchor=(1.05, 0.8), loc=2, borderaxespad=0.)\n",
        "plt.xlabel('First semester credits attempted')\n",
        "plt.ylabel('Predicted probability of earning a degree')\n",
        "\n",
        "plt.savefig('test.png', dpi=300, bbox_inches='tight')\n",
        "plt.figure(figsize=(30,20))"
      ],
      "execution_count": 80,
      "outputs": [
        {
          "output_type": "execute_result",
          "data": {
            "text/plain": [
              "<Figure size 2160x1440 with 0 Axes>"
            ]
          },
          "metadata": {
            "tags": []
          },
          "execution_count": 80
        },
        {
          "output_type": "display_data",
          "data": {
            "image/png": "[encoded data removed]",
            "text/plain": [
              "<Figure size 432x288 with 1 Axes>"
            ]
          },
          "metadata": {
            "tags": []
          }
        },
        {
          "output_type": "display_data",
          "data": {
            "text/plain": [
              "<Figure size 2160x1440 with 0 Axes>"
            ]
          },
          "metadata": {
            "tags": []
          }
        }
      ]
    }
  ]
}